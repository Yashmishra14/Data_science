{
 "cells": [
  {
   "cell_type": "code",
   "execution_count": 13,
   "id": "c674fa66",
   "metadata": {},
   "outputs": [
    {
     "name": "stdout",
     "output_type": "stream",
     "text": [
      "   Size  Bedrooms  Price\n",
      "0  1000         2     50\n",
      "1  1500         3     65\n",
      "2  2000         4     80\n",
      "3  2500         4     95\n",
      "4  3000         5    110\n",
      "Predicted Price: 74.00 lakhs\n"
     ]
    },
    {
     "name": "stderr",
     "output_type": "stream",
     "text": [
      "C:\\Users\\yashp\\AppData\\Roaming\\Python\\Python313\\site-packages\\sklearn\\utils\\validation.py:2749: UserWarning: X does not have valid feature names, but LinearRegression was fitted with feature names\n",
      "  warnings.warn(\n"
     ]
    }
   ],
   "source": [
    "import pandas as pd\n",
    "from sklearn.model_selection import train_test_split\n",
    "from sklearn.linear_model import LinearRegression\n",
    "\n",
    "\n",
    "# Step 2: Data Create / Load\n",
    "\n",
    "data = {\n",
    "    'Size': [1000, 1500, 2000, 2500, 3000],\n",
    "    'Bedrooms': [2, 3, 4, 4, 5],\n",
    "    'Price': [50, 65, 80, 95, 110]  # in lakhs\n",
    "}\n",
    "\n",
    "df = pd.DataFrame(data)\n",
    "print(df)\n",
    "\n",
    "# Step 3: Features (X) & Target (y) Split\n",
    "\n",
    "X = df[['Size', 'Bedrooms']]\n",
    "y = df['Price']\n",
    "\n",
    "\n",
    "# Step 4: Train-Test Split\n",
    "\n",
    "X_train,X_test,y_train,y_test=train_test_split(\n",
    "    X,y,test_size=0.2,random_state=42\n",
    ")\n",
    "\n",
    "# Step 5: Model Train\n",
    "\n",
    "model = LinearRegression()\n",
    "model.fit(X_train, y_train)\n",
    "\n",
    "# Example: Size = 1800 sq ft, Bedrooms = 3\n",
    "predicted_price = model.predict([[1800, 3]])\n",
    "print(f\"Predicted Price: {predicted_price[0]:.2f} lakhs\")\n",
    "\n",
    "\n",
    "# print(\"Size Coefficient:\", model.coef_[0])\n",
    "# print(\"Bedrooms Coefficient:\", model.coef_[1])\n",
    "# print(\"Intercept:\", model.intercept_)\n",
    "\n",
    "\n",
    "# Price = (coef1 * Size) + (coef2 * Bedrooms) + intercept\n",
    "\n",
    "\n",
    "# score = model.score(X_test, y_test)\n",
    "# print(f\"Model Accuracy: {score * 100:.2f}%\")\n",
    "\n"
   ]
  }
 ],
 "metadata": {
  "kernelspec": {
   "display_name": "base",
   "language": "python",
   "name": "python3"
  },
  "language_info": {
   "codemirror_mode": {
    "name": "ipython",
    "version": 3
   },
   "file_extension": ".py",
   "mimetype": "text/x-python",
   "name": "python",
   "nbconvert_exporter": "python",
   "pygments_lexer": "ipython3",
   "version": "3.13.5"
  }
 },
 "nbformat": 4,
 "nbformat_minor": 5
}
