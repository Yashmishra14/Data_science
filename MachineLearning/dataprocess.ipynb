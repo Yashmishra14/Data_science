{
 "cells": [
  {
   "cell_type": "code",
   "execution_count": 2,
   "id": "145c9da7",
   "metadata": {},
   "outputs": [
    {
     "name": "stdout",
     "output_type": "stream",
     "text": [
      "\n",
      " Label Encoded data\n",
      "              Name  Age  Salary  Age_encoded  Salary_encoded\n",
      "0      Yash Mishra   24   45000            1               6\n",
      "1       Neha Gupta   27   40000            4               1\n",
      "2     Rohit Sharma   30   50000            7              11\n",
      "3      Anita Singh   26   42000            3               3\n",
      "4     Rajesh Kumar   29   47000            6               8\n",
      "5      Simran Kaur   25   43000            2               4\n",
      "6     Deepak Joshi   28   41000            5               2\n",
      "7       Alok Verma   31   46000            8               7\n",
      "8        Sonia Roy   23   39000            0               0\n",
      "9     Vikram Singh   27   44000            4               5\n",
      "10     Meera Patel   26   40000            3               1\n",
      "11    Amit Chauhan   29   48000            6               9\n",
      "12    Radha Sharma   28   43000            5               4\n",
      "13      Sachin Rao   30   47000            7               8\n",
      "14     Pooja Desai   24   39000            1               0\n",
      "15     Nitin Gupta   27   45000            4               6\n",
      "16    Anjali Singh   25   42000            2               3\n",
      "17     Rahul Mehta   29   46000            6               7\n",
      "18    Kavita Joshi   26   40000            3               1\n",
      "19     Sunil Kumar   28   47000            5               8\n",
      "20      Neha Singh   27   43000            4               4\n",
      "21     Ajay Sharma   30   49000            7              10\n",
      "22     Divya Patel   24   39000            1               0\n",
      "23     Rajiv Verma   29   48000            6               9\n",
      "24       Swati Roy   26   42000            3               3\n",
      "25    Manish Singh   28   46000            5               7\n",
      "26  Priyanka Joshi   25   41000            2               2\n",
      "27    Sameer Kumar   30   47000            7               8\n",
      "28     Alka Sharma   27   43000            4               4\n",
      "29    Rakesh Gupta   29   45000            6               6\n",
      "30     Sonal Patel   24   39000            1               0\n",
      "31     Vivek Mehta   28   48000            5               9\n",
      "32     Nisha Singh   26   42000            3               3\n",
      "33       Arjun Rao   27   46000            4               7\n",
      "34     Priya Desai   25   40000            2               1\n",
      "35    Sunita Joshi   29   47000            6               8\n",
      "36     Ankit Kumar   28   43000            5               4\n",
      "37    Shweta Gupta   30   49000            7              10\n",
      "38     Deepa Singh   24   39000            1               0\n",
      "39     Rahul Patel   27   46000            4               7\n",
      "40    Kiran Sharma   29   42000            6               3\n",
      "41      Sanjay Rao   26   45000            3               6\n",
      "42     Megha Joshi   28   40000            5               1\n",
      "43    Vikash Kumar   27   47000            4               8\n",
      "44  Nivedita Singh   30   43000            7               4\n",
      "45    Rajesh Patel   25   46000            2               7\n",
      "46   Pallavi Gupta   24   39000            1               0\n",
      "47    Ashok Sharma   29   48000            6               9\n",
      "48       Anita Rao   26   42000            3               3\n",
      "49    Deepak Mehta   28   45000            5               6\n"
     ]
    }
   ],
   "source": [
    "from sklearn.preprocessing import LabelEncoder\n",
    "import pandas as pd\n",
    "\n",
    "df=pd.read_csv(\"data.txt\")\n",
    "\n",
    "df_label=df.copy()\n",
    "\n",
    "le=LabelEncoder()\n",
    "df_label[\"Age_encoded\"] = le.fit_transform(df_label[\"Age\"])\n",
    "df_label[\"Salary_encoded\"] = le.fit_transform(df_label[\"Salary\"])\n",
    "\n",
    "print('\\n Label Encoded data')\n",
    "\n",
    "print(df_label[[\"Name\",\"Age\",\"Salary\",\"Age_encoded\",\"Salary_encoded\"]])\n",
    "\n",
    "\n",
    "\n"
   ]
  }
 ],
 "metadata": {
  "kernelspec": {
   "display_name": "base",
   "language": "python",
   "name": "python3"
  },
  "language_info": {
   "codemirror_mode": {
    "name": "ipython",
    "version": 3
   },
   "file_extension": ".py",
   "mimetype": "text/x-python",
   "name": "python",
   "nbconvert_exporter": "python",
   "pygments_lexer": "ipython3",
   "version": "3.13.5"
  }
 },
 "nbformat": 4,
 "nbformat_minor": 5
}
